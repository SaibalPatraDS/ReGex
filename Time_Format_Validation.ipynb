{
  "nbformat": 4,
  "nbformat_minor": 0,
  "metadata": {
    "colab": {
      "private_outputs": true,
      "provenance": []
    },
    "kernelspec": {
      "name": "python3",
      "display_name": "Python 3"
    },
    "language_info": {
      "name": "python"
    }
  },
  "cells": [
    {
      "cell_type": "markdown",
      "source": [
        "## Time Format Validation\n",
        "\n",
        "-----------------------\n",
        "\n",
        "<h3>Task 3 : Time Format Validation.</h3>\n",
        "\n",
        "----------------------\n",
        "\n",
        "Write a format checker that determines whether the input is worth processing further with your backend application.\n",
        "\n",
        "\n",
        "* Time Format must be valid and in between 00:00 to 23:59\n",
        "\n",
        "\n",
        "\n",
        "\n"
      ],
      "metadata": {
        "id": "oeELgQgv0sIQ"
      }
    },
    {
      "cell_type": "code",
      "source": [
        "inputs = ['10:26', '25:36', '44:56', '99:99', '100:32', '45:999',  '01:25']\n",
        "\n",
        "regex = '[0-9]{2}:[0-9]{2}' ## max numerical that can be matched 99:99 and minimum 00:00\n",
        "\n",
        "print(re.fullmatch(regex, inputs[0]))\n",
        "print(re.fullmatch(regex, '00:00'))\n",
        "print(re.fullmatch(regex, '99:99'))\n",
        "print(re.fullmatch(regex, '100:99'))\n"
      ],
      "metadata": {
        "id": "4TfYToJX00VF"
      },
      "execution_count": null,
      "outputs": []
    },
    {
      "cell_type": "code",
      "source": [
        "## list comprehension\n",
        "\n",
        "[re.fullmatch(regex, x) for x in inputs]"
      ],
      "metadata": {
        "id": "6nzQ6lS83qIH"
      },
      "execution_count": null,
      "outputs": []
    },
    {
      "cell_type": "markdown",
      "source": [
        "Project Work\n",
        "\n",
        "---------------------"
      ],
      "metadata": {
        "id": "6a8W1pP94Yoy"
      }
    },
    {
      "cell_type": "code",
      "source": [
        "max_time = '23:59'\n",
        "min_time = '00:00'"
      ],
      "metadata": {
        "id": "P0zQ5r4P344X"
      },
      "execution_count": null,
      "outputs": []
    },
    {
      "cell_type": "code",
      "source": [
        "regex = '([01][0-9]|2[0-3]):([0-5][0-9])'  # max numerical can be matched 23:59 and minimum 00:00"
      ],
      "metadata": {
        "id": "acZcc3cE4kjL"
      },
      "execution_count": null,
      "outputs": []
    },
    {
      "cell_type": "code",
      "source": [
        "def timematch(regex, time):\n",
        "    if re.fullmatch(regex, time):\n",
        "        print(\"Time is saved\")\n",
        "    else:\n",
        "        print(\"Invalid Time\")\n",
        "    return time    "
      ],
      "metadata": {
        "id": "QgUGXekX4zX6"
      },
      "execution_count": null,
      "outputs": []
    },
    {
      "cell_type": "code",
      "source": [
        "## dry run\n",
        "\n",
        "timematch(regex, max_time), timematch(regex, min_time)"
      ],
      "metadata": {
        "id": "_wkUVPAx57Ct"
      },
      "execution_count": null,
      "outputs": []
    },
    {
      "cell_type": "code",
      "source": [
        "## testing\n",
        "\n",
        "time = ['10:26', '15:59', '23:60', '10:10', '17:54', '21:45', '33:45', '12:12']"
      ],
      "metadata": {
        "id": "4ZXeMuEm5MW4"
      },
      "execution_count": null,
      "outputs": []
    },
    {
      "cell_type": "code",
      "source": [
        "#testing results\n",
        "\n",
        "for x in time:\n",
        "    timematch(regex, x)\n",
        "    print(\"Time is:\", x)\n",
        "    print('\\n')"
      ],
      "metadata": {
        "id": "3lYcWf4-5hwD"
      },
      "execution_count": null,
      "outputs": []
    }
  ]
}