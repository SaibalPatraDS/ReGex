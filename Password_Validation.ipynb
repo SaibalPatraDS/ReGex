{
  "nbformat": 4,
  "nbformat_minor": 0,
  "metadata": {
    "colab": {
      "private_outputs": true,
      "provenance": []
    },
    "kernelspec": {
      "name": "python3",
      "display_name": "Python 3"
    },
    "language_info": {
      "name": "python"
    }
  },
  "cells": [
    {
      "cell_type": "markdown",
      "source": [
        "## Password Valdation with ReGex\n",
        "\n",
        "--------------------------"
      ],
      "metadata": {
        "id": "xk-ocTnFlBGt"
      }
    },
    {
      "cell_type": "markdown",
      "source": [
        "<h3>Task 1 : Need to write a regex that will validate a password to make sure it meets the following criteria. </h3>\n",
        "\n",
        "\n",
        "\n",
        "1.   At least 8 characters\n",
        "2.   upper case characters: A-Z\n",
        "3.   lowercase characters: a-z\n",
        "4.   numbers:0-9\n",
        "5.   any of the special characters:@#$%^&+=\n",
        "\n",
        "Letters/numbers/special characters are optional.\n",
        "\n"
      ],
      "metadata": {
        "id": "b56DniaXpasz"
      }
    },
    {
      "cell_type": "code",
      "source": [
        "regex = '[A-Za-z0-9@#$^&+=]{8,}'\n",
        "\n",
        "## {8,} will make sure no of characters are greater of equal to 8\n",
        "## [A-Z] to make sure Capital letters are included\n",
        "## [a-z] to make sure lower case characters are included\n",
        "## [0-9] to make sure numeric characters are included\n",
        "## and everyone is merge as letters, numbers and special characters are optional"
      ],
      "metadata": {
        "id": "iZRk1VrRhYce"
      },
      "execution_count": null,
      "outputs": []
    },
    {
      "cell_type": "code",
      "source": [
        "password = input(\"Enter Password:\")"
      ],
      "metadata": {
        "id": "_tPHHVDCrjQ-"
      },
      "execution_count": null,
      "outputs": []
    },
    {
      "cell_type": "code",
      "source": [
        "def setpassword(regex, password):\n",
        "    if re.fullmatch(regex, password):\n",
        "        print(\"Congratulation!Your password is set.\")\n",
        "    else:\n",
        "        print(\"Please enter correcr password\") \n",
        "    # print(\"Your password\")\n",
        "    return password       "
      ],
      "metadata": {
        "id": "_2h74m3TrdDV"
      },
      "execution_count": null,
      "outputs": []
    },
    {
      "cell_type": "code",
      "source": [
        "setpassword(regex, password)"
      ],
      "metadata": {
        "id": "feCseAttrsNf"
      },
      "execution_count": null,
      "outputs": []
    },
    {
      "cell_type": "code",
      "source": [],
      "metadata": {
        "id": "49DdX71Dsh9e"
      },
      "execution_count": null,
      "outputs": []
    },
    {
      "cell_type": "markdown",
      "source": [
        "<h3>Task 2 : Need to write a regex that will validate a password to make sure it meets the following criteria. </h3>\n",
        "\n",
        "\n",
        "\n",
        "1.   At least 6 characters\n",
        "2.   upper case characters: A-Z\n",
        "3.   lowercase characters: a-z\n",
        "4.   numbers:0-9\n",
        "5.   any of the special characters:@#$%^&+=\n",
        "\n",
        "Letters/numbers/special characters are must.\n",
        "\n"
      ],
      "metadata": {
        "id": "t49Q-PmFsyFx"
      }
    },
    {
      "cell_type": "code",
      "source": [
        "## creating regex\n",
        "\n",
        "regex1 = '(?=.*[A-Z])(?=.*[a-z])(?=.*[0-9]).{6,}'\n",
        "\n",
        "## positive lookahead, used to match atleast the condition\n",
        "## pattern --> (?=.*[here, write the pattern])"
      ],
      "metadata": {
        "id": "7CjELHj2s4gD"
      },
      "execution_count": null,
      "outputs": []
    },
    {
      "cell_type": "code",
      "source": [
        "setpassword(regex, password)"
      ],
      "metadata": {
        "id": "GKpfNGpvwieX"
      },
      "execution_count": null,
      "outputs": []
    },
    {
      "cell_type": "code",
      "source": [],
      "metadata": {
        "id": "Oes_5orpxviE"
      },
      "execution_count": null,
      "outputs": []
    }
  ]
}