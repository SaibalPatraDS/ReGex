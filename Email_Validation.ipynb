{
  "nbformat": 4,
  "nbformat_minor": 0,
  "metadata": {
    "colab": {
      "private_outputs": true,
      "provenance": [],
      "collapsed_sections": [
        "nMYLVHrTKSZ1"
      ]
    },
    "kernelspec": {
      "name": "python3",
      "display_name": "Python 3"
    },
    "language_info": {
      "name": "python"
    }
  },
  "cells": [
    {
      "cell_type": "markdown",
      "source": [
        "## Email Validation\n",
        "\n",
        "\n",
        "-------------------"
      ],
      "metadata": {
        "id": "G7MpHEYe8CSQ"
      }
    },
    {
      "cell_type": "code",
      "source": [
        "inputs = ['google123@gmail.com', 'mahima_123@gmail.com', 'pooja_y091@gmail.com', 'benes_james@outlook.com', 'ed_start@iitbhu.ac.in']"
      ],
      "metadata": {
        "id": "qAh1NUkP5kM0"
      },
      "execution_count": null,
      "outputs": []
    },
    {
      "cell_type": "code",
      "source": [
        "regex = '(\\w|\\.|\\_|\\-)+[@][a-z]+[.]\\w{2,3}[.]?[a-z]?[a-z]?$'\n",
        "\n",
        "## two parts of the regex, \n",
        "# \"\"\"ist part before '@' and second part after '@'\n",
        "# for ist part, any number of alphanumeric character can exists with that dot[.], underscore[_] and hyphen[-] \n",
        "# and for second part, any numer of alphabets can occur, then a dot[.] next to it again {2,3} alphabets and then optional dot[.] and optional alphabets.\"\"\""
      ],
      "metadata": {
        "id": "bZAyVY3B-imp"
      },
      "execution_count": null,
      "outputs": []
    },
    {
      "cell_type": "code",
      "source": [
        "## testing\n",
        "\n",
        "[re.fullmatch(regex, x) for x in inputs]"
      ],
      "metadata": {
        "id": "lqLbbuS3Ap6f"
      },
      "execution_count": null,
      "outputs": []
    },
    {
      "cell_type": "markdown",
      "source": [
        "### Username Validation\n",
        "\n",
        "\n",
        "*  Allowing aplhanumeric character, underscore(_) and dor[.] only"
      ],
      "metadata": {
        "id": "q1a0_Ta7-VVn"
      }
    },
    {
      "cell_type": "code",
      "source": [
        "inputs = ['rakima_123', 'huges_salt', 'peterbrake.123', 'jeus@1230', 'navin._56']"
      ],
      "metadata": {
        "id": "mpiw9Qnd-RRY"
      },
      "execution_count": null,
      "outputs": []
    },
    {
      "cell_type": "code",
      "source": [
        "regex = '^[a-zA-Z0-9._]+$'\n",
        "\n",
        "# regex = '^[.]?\\w+[.}?$'   #---> this will not work cause \\w doesn't allow dot[.] and all combinations can't be covered.\n",
        "\n",
        "\n",
        "## anynumber of aplhanumeric character and special characters like dot[.] and underscore[_] are allowed. "
      ],
      "metadata": {
        "id": "z9Jee39hD9hq"
      },
      "execution_count": null,
      "outputs": []
    },
    {
      "cell_type": "code",
      "source": [
        "[re.fullmatch(regex, x) for x in inputs]"
      ],
      "metadata": {
        "id": "u75z3b9nEPzd"
      },
      "execution_count": null,
      "outputs": []
    },
    {
      "cell_type": "code",
      "source": [
        "string = 'amncghrbjab@nksnk'\n",
        "\n",
        "re.findall('am.*', string)  # '.' matches any character except new line"
      ],
      "metadata": {
        "id": "UaCei_0CLsKC"
      },
      "execution_count": null,
      "outputs": []
    },
    {
      "cell_type": "code",
      "source": [
        "## to get only the specified character as an output, use question mark after asterisk, *\n",
        "\n",
        "re.findall('am.*?', string)"
      ],
      "metadata": {
        "id": "sXMvnY-MMBDR"
      },
      "execution_count": null,
      "outputs": []
    },
    {
      "cell_type": "code",
      "source": [
        "## new example\n",
        "\n",
        "s = 'peter piper picked a peck of pickled peppers'"
      ],
      "metadata": {
        "id": "tBMbXLz4MO4q"
      },
      "execution_count": null,
      "outputs": []
    },
    {
      "cell_type": "code",
      "source": [
        "re.findall('p.*e.*r', s)   # 'p.*e.*r' means starts from 'p' then any character utill 'e' occurs and then all character except new line and finally end with 'r' occurs. "
      ],
      "metadata": {
        "id": "RbOvzOSfMa92"
      },
      "execution_count": null,
      "outputs": []
    },
    {
      "cell_type": "code",
      "source": [
        "## we want to get outputs like 'peter', 'piper' and rest in a single output\n",
        "\n",
        "re.findall('p.*?e.*?r', s)"
      ],
      "metadata": {
        "id": "2jHTlIVvM552"
      },
      "execution_count": null,
      "outputs": []
    }
  ]
}