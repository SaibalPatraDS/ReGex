{
  "nbformat": 4,
  "nbformat_minor": 0,
  "metadata": {
    "colab": {
      "private_outputs": true,
      "provenance": [],
      "collapsed_sections": [
        "nMYLVHrTKSZ1"
      ]
    },
    "kernelspec": {
      "name": "python3",
      "display_name": "Python 3"
    },
    "language_info": {
      "name": "python"
    }
  },
  "cells": [
    {
      "cell_type": "markdown",
      "source": [
        "## Execution and Word Replacement from Server Logs\n",
        "\n",
        "------------------"
      ],
      "metadata": {
        "id": "xF_O7_zhIA2F"
      }
    },
    {
      "cell_type": "markdown",
      "source": [
        "**Problem 1** :    \n",
        "Find a match that starts with 'crypto', then matches at the most 30 arbitary characters and match ends when the last word is 'coin'.\n",
        "\n"
      ],
      "metadata": {
        "id": "JaFl28SyPWMS"
      }
    },
    {
      "cell_type": "code",
      "source": [
        "text1 = 'crypto-bot that is trading Bitcoin and other currencies.'"
      ],
      "metadata": {
        "id": "2hvBXAsdEUpG"
      },
      "execution_count": null,
      "outputs": []
    },
    {
      "cell_type": "code",
      "source": [
        "## regex making and finding the match\n",
        "\n",
        "re.match('crypto(.{1,30})coin', text1)\n"
      ],
      "metadata": {
        "id": "q41NMiMKP7g-"
      },
      "execution_count": null,
      "outputs": []
    },
    {
      "cell_type": "markdown",
      "source": [
        "Explanation --\n",
        "\n",
        "Match starts with 'crypto' and ends with 'coin' in between anything can be there, only condition is that max length can 30. \n",
        "We will solve it by grouping things, (.{1,30}), dot[.] matches with anything except new line. "
      ],
      "metadata": {
        "id": "IdOa1KdSQPY1"
      }
    },
    {
      "cell_type": "code",
      "source": [],
      "metadata": {
        "id": "tcih5UthQLh3"
      },
      "execution_count": null,
      "outputs": []
    },
    {
      "cell_type": "markdown",
      "source": [
        "**Problem 2**:\n",
        "\n",
        "Find the occurances of dollar amounts with optional Regular Expressions decimal values. \n",
        "\n"
      ],
      "metadata": {
        "id": "DZf7aYrERCoK"
      }
    },
    {
      "cell_type": "code",
      "source": [
        "text2 = '''\n",
        "If you invested $1 in the year 1801, you would have $18087791.41 today.\n",
        "This is a 7.6967% return on investment. \n",
        "But if you only invested $0.25 in 1801, you would end up with $4521947.667'''"
      ],
      "metadata": {
        "id": "u3M93SoSRUfq"
      },
      "execution_count": null,
      "outputs": []
    },
    {
      "cell_type": "code",
      "source": [
        "## regex making and finding the match\n",
        "\n",
        "regex = \"(\\$[0-9]+(\\.[0-9]*)?)\"\n",
        "\n",
        "amount = re.findall(regex, text2)\n",
        "\n",
        "for i in amount:\n",
        "    print(\"Decimal Amount\", i[1])"
      ],
      "metadata": {
        "id": "ORr-LIRwR0-s"
      },
      "execution_count": null,
      "outputs": []
    },
    {
      "cell_type": "markdown",
      "source": [
        "Explanation --\n",
        "\n",
        "Regex will start with dollar sign[\\$], but dollar sign[\\$] has another meaning in regex, so we will use bakslash(\\) and same for decimal(.) and rest of the things any number of numeric characters, [0-9]+. To make sure regex to be not greddy, we will use question mark, '?' after decimal matching."
      ],
      "metadata": {
        "id": "s-czugQ5St9B"
      }
    },
    {
      "cell_type": "code",
      "source": [],
      "metadata": {
        "id": "Fh46H8EGSPDX"
      },
      "execution_count": null,
      "outputs": []
    },
    {
      "cell_type": "markdown",
      "source": [
        "**Problem 3**:\n",
        "\n",
        "Replace Alice Wonderland with 'Alice Doe' but do not replace occurances of 'Alice Wonderland' when you see single quotes."
      ],
      "metadata": {
        "id": "jx2s41_sTxRm"
      }
    },
    {
      "cell_type": "code",
      "source": [
        "text3 = '''\n",
        "Alice Wonderland married John Doe.\n",
        "The new name of former 'Alice Wonderland' is Alice Doe.\n",
        "Alice Wonderland replaces her old name 'Wonderland' with her new name 'Doe'\n",
        "Alice's sister Jane Wonderland still keeps her old name.'''"
      ],
      "metadata": {
        "id": "rCCMlXjKUYrv"
      },
      "execution_count": null,
      "outputs": []
    },
    {
      "cell_type": "code",
      "source": [
        "## Regex making and replacing the match\n",
        "\n",
        "regex = \"Alice Wonderland(?!')\"   ## regex to be used\n",
        "\n",
        "re.sub(regex, 'Alice Doe', text3)   # sub for replacing, regex -- > what to be replaced, next item with what to be replaced"
      ],
      "metadata": {
        "id": "IR8MMIjMU12I"
      },
      "execution_count": null,
      "outputs": []
    },
    {
      "cell_type": "markdown",
      "source": [
        "Explanation --\n",
        "\n",
        "Negative Lookahead, (?!the character want to avoid) .\n",
        "\n",
        "Alice Wonderland will be replaced but if quotation occurs, no replacement.  \n",
        "\n",
        "[Regex-Lookaronds](https://www.rexegg.com/regex-lookarounds.html)"
      ],
      "metadata": {
        "id": "-zyqH7fmVf7e"
      }
    },
    {
      "cell_type": "code",
      "source": [],
      "metadata": {
        "id": "Cnx7IZ5PVPCr"
      },
      "execution_count": null,
      "outputs": []
    }
  ]
}